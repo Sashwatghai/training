{
 "cells": [
  {
   "cell_type": "code",
   "execution_count": 12,
   "id": "f0011c61",
   "metadata": {},
   "outputs": [],
   "source": [
    "# Variable\n",
    "## variables are containers for storing values\n",
    "## Python has no command for declaring the variables\n",
    "## When you assign a value, a variable is created"
   ]
  },
  {
   "cell_type": "code",
   "execution_count": 1,
   "id": "1ec5e25f",
   "metadata": {},
   "outputs": [],
   "source": [
    "# Print () or direct x or Name"
   ]
  },
  {
   "cell_type": "code",
   "execution_count": 2,
   "id": "240a94b2",
   "metadata": {},
   "outputs": [
    {
     "data": {
      "text/plain": [
       "'Sashwat'"
      ]
     },
     "execution_count": 2,
     "metadata": {},
     "output_type": "execute_result"
    }
   ],
   "source": [
    "Name = 'Sashwat'\n",
    "Name"
   ]
  },
  {
   "cell_type": "code",
   "execution_count": 3,
   "id": "f234f234",
   "metadata": {},
   "outputs": [
    {
     "ename": "NameError",
     "evalue": "name 'name' is not defined",
     "output_type": "error",
     "traceback": [
      "\u001b[1;31m---------------------------------------------------------------------------\u001b[0m",
      "\u001b[1;31mNameError\u001b[0m                                 Traceback (most recent call last)",
      "\u001b[1;32m~\\AppData\\Local\\Temp/ipykernel_35788/3474671970.py\u001b[0m in \u001b[0;36m<module>\u001b[1;34m\u001b[0m\n\u001b[1;32m----> 1\u001b[1;33m \u001b[0mname\u001b[0m\u001b[1;33m\u001b[0m\u001b[1;33m\u001b[0m\u001b[0m\n\u001b[0m",
      "\u001b[1;31mNameError\u001b[0m: name 'name' is not defined"
     ]
    }
   ],
   "source": [
    "name # case sensitive"
   ]
  },
  {
   "cell_type": "code",
   "execution_count": 4,
   "id": "73a4b6b7",
   "metadata": {},
   "outputs": [
    {
     "ename": "SyntaxError",
     "evalue": "invalid syntax (Temp/ipykernel_35788/3162032770.py, line 1)",
     "output_type": "error",
     "traceback": [
      "\u001b[1;36m  File \u001b[1;32m\"C:\\Users\\sasha\\AppData\\Local\\Temp/ipykernel_35788/3162032770.py\"\u001b[1;36m, line \u001b[1;32m1\u001b[0m\n\u001b[1;33m    1Name= \"Ghai\"\u001b[0m\n\u001b[1;37m     ^\u001b[0m\n\u001b[1;31mSyntaxError\u001b[0m\u001b[1;31m:\u001b[0m invalid syntax\n"
     ]
    }
   ],
   "source": [
    "1Name= \"Ghai\" #Variable name cannot start with a number"
   ]
  },
  {
   "cell_type": "code",
   "execution_count": 5,
   "id": "d3a59838",
   "metadata": {},
   "outputs": [],
   "source": [
    "N1ame = \"Ghai 2\""
   ]
  },
  {
   "cell_type": "code",
   "execution_count": 6,
   "id": "3c189221",
   "metadata": {},
   "outputs": [
    {
     "data": {
      "text/plain": [
       "'Ghai 2'"
      ]
     },
     "execution_count": 6,
     "metadata": {},
     "output_type": "execute_result"
    }
   ],
   "source": [
    "N1ame"
   ]
  },
  {
   "cell_type": "code",
   "execution_count": 7,
   "id": "f7c6df5a",
   "metadata": {},
   "outputs": [
    {
     "ename": "SyntaxError",
     "evalue": "cannot assign to operator (Temp/ipykernel_35788/3347360911.py, line 1)",
     "output_type": "error",
     "traceback": [
      "\u001b[1;36m  File \u001b[1;32m\"C:\\Users\\sasha\\AppData\\Local\\Temp/ipykernel_35788/3347360911.py\"\u001b[1;36m, line \u001b[1;32m1\u001b[0m\n\u001b[1;33m    Nick@name =\"Ateya\"\u001b[0m\n\u001b[1;37m    ^\u001b[0m\n\u001b[1;31mSyntaxError\u001b[0m\u001b[1;31m:\u001b[0m cannot assign to operator\n"
     ]
    }
   ],
   "source": [
    "Nick@name =\"Ateya\" #special characters are not allowed"
   ]
  },
  {
   "cell_type": "code",
   "execution_count": null,
   "id": "3a7ee281",
   "metadata": {},
   "outputs": [],
   "source": [
    "age = 23"
   ]
  },
  {
   "cell_type": "code",
   "execution_count": 13,
   "id": "2616cf8b",
   "metadata": {},
   "outputs": [],
   "source": [
    "#age, Age, AGE are  thee different variables"
   ]
  },
  {
   "cell_type": "code",
   "execution_count": 8,
   "id": "ccdd25fc",
   "metadata": {},
   "outputs": [
    {
     "data": {
      "text/plain": [
       "'Ateya'"
      ]
     },
     "execution_count": 8,
     "metadata": {},
     "output_type": "execute_result"
    }
   ],
   "source": [
    "Nick_name = \"Ateya\" #_ underscore is allowed\n",
    "Nick_name"
   ]
  },
  {
   "cell_type": "code",
   "execution_count": 9,
   "id": "b6c95ed2",
   "metadata": {},
   "outputs": [
    {
     "ename": "SyntaxError",
     "evalue": "invalid syntax (Temp/ipykernel_35788/858381598.py, line 1)",
     "output_type": "error",
     "traceback": [
      "\u001b[1;36m  File \u001b[1;32m\"C:\\Users\\sasha\\AppData\\Local\\Temp/ipykernel_35788/858381598.py\"\u001b[1;36m, line \u001b[1;32m1\u001b[0m\n\u001b[1;33m    L0 ist = 1,2,3\u001b[0m\n\u001b[1;37m       ^\u001b[0m\n\u001b[1;31mSyntaxError\u001b[0m\u001b[1;31m:\u001b[0m invalid syntax\n"
     ]
    }
   ],
   "source": [
    "L0 ist = 1,2,3 # no space allowed\n",
    "L0 ist"
   ]
  },
  {
   "cell_type": "code",
   "execution_count": 10,
   "id": "93c958f8",
   "metadata": {},
   "outputs": [],
   "source": [
    "# var name can start with A-Z, a-z, _\n",
    "# Operators are not allowed other than _\n",
    "# Case sensitive\n",
    "# space is not allowed"
   ]
  },
  {
   "cell_type": "code",
   "execution_count": null,
   "id": "12ec13b7",
   "metadata": {},
   "outputs": [],
   "source": []
  }
 ],
 "metadata": {
  "kernelspec": {
   "display_name": "Python 3 (ipykernel)",
   "language": "python",
   "name": "python3"
  },
  "language_info": {
   "codemirror_mode": {
    "name": "ipython",
    "version": 3
   },
   "file_extension": ".py",
   "mimetype": "text/x-python",
   "name": "python",
   "nbconvert_exporter": "python",
   "pygments_lexer": "ipython3",
   "version": "3.9.7"
  }
 },
 "nbformat": 4,
 "nbformat_minor": 5
}
