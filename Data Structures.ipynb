{
 "cells": [
  {
   "cell_type": "markdown",
   "id": "8e273a0f",
   "metadata": {},
   "source": [
    "### Data Structures"
   ]
  },
  {
   "cell_type": "code",
   "execution_count": 1,
   "id": "5ad46991",
   "metadata": {},
   "outputs": [
    {
     "data": {
      "text/plain": [
       "tuple"
      ]
     },
     "execution_count": 1,
     "metadata": {},
     "output_type": "execute_result"
    }
   ],
   "source": [
    "x= \"apple\", \"banana\", \"cherry\"\n",
    "type(x)"
   ]
  },
  {
   "cell_type": "code",
   "execution_count": 3,
   "id": "3d39d56c",
   "metadata": {},
   "outputs": [
    {
     "data": {
      "text/plain": [
       "list"
      ]
     },
     "execution_count": 3,
     "metadata": {},
     "output_type": "execute_result"
    }
   ],
   "source": [
    "x= [\"apple\", \"banana\", \"cherry\"]\n",
    "type (x)"
   ]
  },
  {
   "cell_type": "code",
   "execution_count": 22,
   "id": "e0f31c9f",
   "metadata": {},
   "outputs": [
    {
     "ename": "SyntaxError",
     "evalue": "invalid syntax (Temp/ipykernel_33060/3506374360.py, line 1)",
     "output_type": "error",
     "traceback": [
      "\u001b[1;36m  File \u001b[1;32m\"C:\\Users\\sasha\\AppData\\Local\\Temp/ipykernel_33060/3506374360.py\"\u001b[1;36m, line \u001b[1;32m1\u001b[0m\n\u001b[1;33m    x = {\"apple\", \"banna\", \"cherry\", :2323}\u001b[0m\n\u001b[1;37m                                     ^\u001b[0m\n\u001b[1;31mSyntaxError\u001b[0m\u001b[1;31m:\u001b[0m invalid syntax\n"
     ]
    }
   ],
   "source": [
    "x = {\"apple\", \"banna\", \"cherry\", :2323}\n",
    "type (x)"
   ]
  },
  {
   "cell_type": "code",
   "execution_count": 28,
   "id": "b9b9d77d",
   "metadata": {
    "scrolled": true
   },
   "outputs": [
    {
     "data": {
      "text/plain": [
       "dict"
      ]
     },
     "execution_count": 28,
     "metadata": {},
     "output_type": "execute_result"
    }
   ],
   "source": [
    "x= {'a':23, 'apple':45} #dictionary\n",
    "type (x)"
   ]
  },
  {
   "cell_type": "markdown",
   "id": "1d0ed68a",
   "metadata": {},
   "source": [
    "# List"
   ]
  },
  {
   "cell_type": "markdown",
   "id": "e43d0b6b",
   "metadata": {},
   "source": [
    "### allow Heterogenoeous¶\n",
    "### Index starts from Zero\n",
    "### Mutable using index\n",
    "### []"
   ]
  },
  {
   "cell_type": "code",
   "execution_count": 8,
   "id": "0a56681d",
   "metadata": {},
   "outputs": [
    {
     "data": {
      "text/plain": [
       "[12, 43, 56, 'hi', (1+2j), 6.7]"
      ]
     },
     "execution_count": 8,
     "metadata": {},
     "output_type": "execute_result"
    }
   ],
   "source": [
    "sample_list=[12,43,56,\"hi\", 1+2j,6.7]\n",
    "sample_list"
   ]
  },
  {
   "cell_type": "code",
   "execution_count": 9,
   "id": "7d21cfcb",
   "metadata": {},
   "outputs": [
    {
     "data": {
      "text/plain": [
       "list"
      ]
     },
     "execution_count": 9,
     "metadata": {},
     "output_type": "execute_result"
    }
   ],
   "source": [
    "type(sample_list)"
   ]
  },
  {
   "cell_type": "code",
   "execution_count": 10,
   "id": "f5bff979",
   "metadata": {},
   "outputs": [
    {
     "data": {
      "text/plain": [
       "12"
      ]
     },
     "execution_count": 10,
     "metadata": {},
     "output_type": "execute_result"
    }
   ],
   "source": [
    "sample_list [0] #starts with 0"
   ]
  },
  {
   "cell_type": "code",
   "execution_count": 11,
   "id": "95dc5cad",
   "metadata": {},
   "outputs": [
    {
     "ename": "IndexError",
     "evalue": "list index out of range",
     "output_type": "error",
     "traceback": [
      "\u001b[1;31m---------------------------------------------------------------------------\u001b[0m",
      "\u001b[1;31mIndexError\u001b[0m                                Traceback (most recent call last)",
      "\u001b[1;32m~\\AppData\\Local\\Temp/ipykernel_33060/475477669.py\u001b[0m in \u001b[0;36m<module>\u001b[1;34m\u001b[0m\n\u001b[1;32m----> 1\u001b[1;33m \u001b[0msample_list\u001b[0m \u001b[1;33m[\u001b[0m\u001b[1;36m10\u001b[0m\u001b[1;33m]\u001b[0m\u001b[1;33m\u001b[0m\u001b[1;33m\u001b[0m\u001b[0m\n\u001b[0m",
      "\u001b[1;31mIndexError\u001b[0m: list index out of range"
     ]
    }
   ],
   "source": [
    "sample_list [10] #out of range"
   ]
  },
  {
   "cell_type": "code",
   "execution_count": 12,
   "id": "a73f122a",
   "metadata": {},
   "outputs": [
    {
     "data": {
      "text/plain": [
       "[12, 43, 100, 'hi', (1+2j), 6.7]"
      ]
     },
     "execution_count": 12,
     "metadata": {},
     "output_type": "execute_result"
    }
   ],
   "source": [
    "sample_list [2]=100 #mutable using index\n",
    "sample_list"
   ]
  },
  {
   "cell_type": "code",
   "execution_count": 14,
   "id": "385ac08d",
   "metadata": {},
   "outputs": [
    {
     "data": {
      "text/plain": [
       "[10, 15, 20, 5, 1]"
      ]
     },
     "execution_count": 14,
     "metadata": {},
     "output_type": "execute_result"
    }
   ],
   "source": [
    "sample_list2=[10, 15,20,5, 1]\n",
    "sample_list2\n"
   ]
  },
  {
   "cell_type": "code",
   "execution_count": 15,
   "id": "55ee47c4",
   "metadata": {},
   "outputs": [
    {
     "data": {
      "text/plain": [
       "[6.7, (1+2j), 'hi', 100, 43, 12]"
      ]
     },
     "execution_count": 15,
     "metadata": {},
     "output_type": "execute_result"
    }
   ],
   "source": [
    "sample_list.reverse()\n",
    "sample_list"
   ]
  },
  {
   "cell_type": "code",
   "execution_count": 16,
   "id": "7fdaeeda",
   "metadata": {},
   "outputs": [
    {
     "ename": "TypeError",
     "evalue": "'<' not supported between instances of 'complex' and 'float'",
     "output_type": "error",
     "traceback": [
      "\u001b[1;31m---------------------------------------------------------------------------\u001b[0m",
      "\u001b[1;31mTypeError\u001b[0m                                 Traceback (most recent call last)",
      "\u001b[1;32m~\\AppData\\Local\\Temp/ipykernel_33060/4135650991.py\u001b[0m in \u001b[0;36m<module>\u001b[1;34m\u001b[0m\n\u001b[1;32m----> 1\u001b[1;33m \u001b[0msample_list\u001b[0m\u001b[1;33m.\u001b[0m\u001b[0msort\u001b[0m\u001b[1;33m(\u001b[0m\u001b[1;33m)\u001b[0m\u001b[1;33m\u001b[0m\u001b[1;33m\u001b[0m\u001b[0m\n\u001b[0m\u001b[0;32m      2\u001b[0m \u001b[0msample_list\u001b[0m\u001b[1;33m\u001b[0m\u001b[1;33m\u001b[0m\u001b[0m\n",
      "\u001b[1;31mTypeError\u001b[0m: '<' not supported between instances of 'complex' and 'float'"
     ]
    }
   ],
   "source": [
    "sample_list.sort()\n",
    "sample_list"
   ]
  },
  {
   "cell_type": "code",
   "execution_count": 18,
   "id": "c19528ad",
   "metadata": {},
   "outputs": [
    {
     "data": {
      "text/plain": [
       "[1, 5, 10, 15, 20]"
      ]
     },
     "execution_count": 18,
     "metadata": {},
     "output_type": "execute_result"
    }
   ],
   "source": [
    "sample_list2.sort()\n",
    "sample_list2"
   ]
  },
  {
   "cell_type": "code",
   "execution_count": 20,
   "id": "0d622077",
   "metadata": {},
   "outputs": [
    {
     "data": {
      "text/plain": [
       "[20, 15, 10, 5, 1]"
      ]
     },
     "execution_count": 20,
     "metadata": {},
     "output_type": "execute_result"
    }
   ],
   "source": [
    "sample_list2.sort(reverse = True) #revese = True is code for descending\n",
    "sample_list2"
   ]
  },
  {
   "cell_type": "markdown",
   "id": "ce68bc84",
   "metadata": {},
   "source": [
    "# Tuple"
   ]
  },
  {
   "cell_type": "markdown",
   "id": "e67d6bf9",
   "metadata": {},
   "source": [
    "### allows Heterogeneous\n",
    "### Index starts from 0 and retrieve using index\n",
    "### cannot change the data once declared - inmutable\n",
    "### ()"
   ]
  },
  {
   "cell_type": "code",
   "execution_count": 36,
   "id": "a03f6152",
   "metadata": {},
   "outputs": [
    {
     "data": {
      "text/plain": [
       "(1, 24, 56, 'Hi', (1+2j))"
      ]
     },
     "execution_count": 36,
     "metadata": {},
     "output_type": "execute_result"
    }
   ],
   "source": [
    "sample = 1,24,56,\"Hi\", 1+2j\n",
    "sample"
   ]
  },
  {
   "cell_type": "code",
   "execution_count": 38,
   "id": "94c05b7d",
   "metadata": {},
   "outputs": [
    {
     "data": {
      "text/plain": [
       "'Hi'"
      ]
     },
     "execution_count": 38,
     "metadata": {},
     "output_type": "execute_result"
    }
   ],
   "source": [
    "sample[3]"
   ]
  },
  {
   "cell_type": "code",
   "execution_count": 33,
   "id": "1a3577e4",
   "metadata": {},
   "outputs": [],
   "source": [
    "# list is mutable but tuple is inmutable"
   ]
  },
  {
   "cell_type": "code",
   "execution_count": 51,
   "id": "0a149f90",
   "metadata": {},
   "outputs": [
    {
     "data": {
      "text/plain": [
       "(2, 24, 34)"
      ]
     },
     "execution_count": 51,
     "metadata": {},
     "output_type": "execute_result"
    }
   ],
   "source": [
    "sample2 = (2,24,34)\n",
    "sample2"
   ]
  },
  {
   "cell_type": "code",
   "execution_count": 37,
   "id": "3583e3b8",
   "metadata": {},
   "outputs": [],
   "source": [
    "# tuple for data privacy so not anyone can make changes"
   ]
  },
  {
   "cell_type": "code",
   "execution_count": 44,
   "id": "abcbd0ca",
   "metadata": {},
   "outputs": [
    {
     "data": {
      "text/plain": [
       "24"
      ]
     },
     "execution_count": 44,
     "metadata": {},
     "output_type": "execute_result"
    }
   ],
   "source": [
    "sample[1]"
   ]
  },
  {
   "cell_type": "code",
   "execution_count": 45,
   "id": "191a2489",
   "metadata": {},
   "outputs": [
    {
     "ename": "AttributeError",
     "evalue": "'tuple' object has no attribute 'reverse'",
     "output_type": "error",
     "traceback": [
      "\u001b[1;31m---------------------------------------------------------------------------\u001b[0m",
      "\u001b[1;31mAttributeError\u001b[0m                            Traceback (most recent call last)",
      "\u001b[1;32m~\\AppData\\Local\\Temp/ipykernel_33060/3651306343.py\u001b[0m in \u001b[0;36m<module>\u001b[1;34m\u001b[0m\n\u001b[1;32m----> 1\u001b[1;33m \u001b[0msample\u001b[0m\u001b[1;33m.\u001b[0m\u001b[0mreverse\u001b[0m\u001b[1;33m(\u001b[0m\u001b[1;33m)\u001b[0m\u001b[1;33m\u001b[0m\u001b[1;33m\u001b[0m\u001b[0m\n\u001b[0m",
      "\u001b[1;31mAttributeError\u001b[0m: 'tuple' object has no attribute 'reverse'"
     ]
    }
   ],
   "source": [
    "sample.reverse()"
   ]
  },
  {
   "cell_type": "code",
   "execution_count": 40,
   "id": "3b4e1140",
   "metadata": {},
   "outputs": [
    {
     "ename": "AttributeError",
     "evalue": "'tuple' object has no attribute 'sort'",
     "output_type": "error",
     "traceback": [
      "\u001b[1;31m---------------------------------------------------------------------------\u001b[0m",
      "\u001b[1;31mAttributeError\u001b[0m                            Traceback (most recent call last)",
      "\u001b[1;32m~\\AppData\\Local\\Temp/ipykernel_33060/320888942.py\u001b[0m in \u001b[0;36m<module>\u001b[1;34m\u001b[0m\n\u001b[1;32m----> 1\u001b[1;33m \u001b[0msample\u001b[0m\u001b[1;33m.\u001b[0m\u001b[0msort\u001b[0m\u001b[1;33m(\u001b[0m\u001b[0mreverse\u001b[0m\u001b[1;33m=\u001b[0m\u001b[1;32mTrue\u001b[0m\u001b[1;33m)\u001b[0m \u001b[1;31m# not allowed sorting as inmutable\u001b[0m\u001b[1;33m\u001b[0m\u001b[1;33m\u001b[0m\u001b[0m\n\u001b[0m\u001b[0;32m      2\u001b[0m \u001b[0msasmple\u001b[0m\u001b[1;33m\u001b[0m\u001b[1;33m\u001b[0m\u001b[0m\n",
      "\u001b[1;31mAttributeError\u001b[0m: 'tuple' object has no attribute 'sort'"
     ]
    }
   ],
   "source": [
    "sample.sort(reverse=True) # not allowed sorting as inmutable\n",
    "sasmple"
   ]
  },
  {
   "cell_type": "code",
   "execution_count": 53,
   "id": "11e6dcd9",
   "metadata": {},
   "outputs": [],
   "source": [
    "sample2 = list(sample)"
   ]
  },
  {
   "cell_type": "code",
   "execution_count": 52,
   "id": "6b8b322d",
   "metadata": {},
   "outputs": [
    {
     "ename": "AttributeError",
     "evalue": "'tuple' object has no attribute 'reverse'",
     "output_type": "error",
     "traceback": [
      "\u001b[1;31m---------------------------------------------------------------------------\u001b[0m",
      "\u001b[1;31mAttributeError\u001b[0m                            Traceback (most recent call last)",
      "\u001b[1;32m~\\AppData\\Local\\Temp/ipykernel_33060/1755064480.py\u001b[0m in \u001b[0;36m<module>\u001b[1;34m\u001b[0m\n\u001b[1;32m----> 1\u001b[1;33m \u001b[0msample2\u001b[0m\u001b[1;33m.\u001b[0m\u001b[0mreverse\u001b[0m\u001b[1;33m(\u001b[0m\u001b[1;33m)\u001b[0m\u001b[1;33m\u001b[0m\u001b[1;33m\u001b[0m\u001b[0m\n\u001b[0m\u001b[0;32m      2\u001b[0m \u001b[0msample2\u001b[0m\u001b[1;33m\u001b[0m\u001b[1;33m\u001b[0m\u001b[0m\n",
      "\u001b[1;31mAttributeError\u001b[0m: 'tuple' object has no attribute 'reverse'"
     ]
    }
   ],
   "source": [
    "sample2.reverse()\n",
    "sample2"
   ]
  },
  {
   "cell_type": "markdown",
   "id": "f2e0cd4a",
   "metadata": {},
   "source": [
    "# Set\n",
    "### Add heterogeneous\n",
    "### Does not allow duplicates\n",
    "### Cannot access using index\n",
    "### Immutable using index\n",
    "### ordered first place"
   ]
  },
  {
   "cell_type": "code",
   "execution_count": 56,
   "id": "7a085928",
   "metadata": {},
   "outputs": [
    {
     "data": {
      "text/plain": [
       "{0, 1, 123, 13.5, 21, 22, 23, 252, 3, 43, 45, 66, 67, 'a', 'abc', 'fox', 'hi'}"
      ]
     },
     "execution_count": 56,
     "metadata": {},
     "output_type": "execute_result"
    }
   ],
   "source": [
    "sample_set = {1,123,43,23,45,67,22,21,3,66,66,0,23,43,1,\"hi\", \"fox\", \"a\", \"abc\",252,13.5}\n",
    "sample_set"
   ]
  },
  {
   "cell_type": "code",
   "execution_count": 65,
   "id": "9ba9de5e",
   "metadata": {},
   "outputs": [],
   "source": [
    "## all 1s 2s 3s ...order is followed"
   ]
  },
  {
   "cell_type": "code",
   "execution_count": 57,
   "id": "35b81a17",
   "metadata": {},
   "outputs": [
    {
     "ename": "TypeError",
     "evalue": "'set' object is not subscriptable",
     "output_type": "error",
     "traceback": [
      "\u001b[1;31m---------------------------------------------------------------------------\u001b[0m",
      "\u001b[1;31mTypeError\u001b[0m                                 Traceback (most recent call last)",
      "\u001b[1;32m~\\AppData\\Local\\Temp/ipykernel_33060/2259847489.py\u001b[0m in \u001b[0;36m<module>\u001b[1;34m\u001b[0m\n\u001b[1;32m----> 1\u001b[1;33m \u001b[0msample_set\u001b[0m\u001b[1;33m[\u001b[0m\u001b[1;36m2\u001b[0m\u001b[1;33m]\u001b[0m\u001b[1;33m\u001b[0m\u001b[1;33m\u001b[0m\u001b[0m\n\u001b[0m",
      "\u001b[1;31mTypeError\u001b[0m: 'set' object is not subscriptable"
     ]
    }
   ],
   "source": [
    "sample_set[2] ## set object is not "
   ]
  },
  {
   "cell_type": "code",
   "execution_count": 58,
   "id": "cb67e733",
   "metadata": {},
   "outputs": [
    {
     "ename": "AttributeError",
     "evalue": "'set' object has no attribute 'reverse'",
     "output_type": "error",
     "traceback": [
      "\u001b[1;31m---------------------------------------------------------------------------\u001b[0m",
      "\u001b[1;31mAttributeError\u001b[0m                            Traceback (most recent call last)",
      "\u001b[1;32m~\\AppData\\Local\\Temp/ipykernel_33060/716429755.py\u001b[0m in \u001b[0;36m<module>\u001b[1;34m\u001b[0m\n\u001b[1;32m----> 1\u001b[1;33m \u001b[0msample_set\u001b[0m\u001b[1;33m.\u001b[0m\u001b[0mreverse\u001b[0m\u001b[1;33m(\u001b[0m\u001b[1;33m)\u001b[0m\u001b[1;33m\u001b[0m\u001b[1;33m\u001b[0m\u001b[0m\n\u001b[0m",
      "\u001b[1;31mAttributeError\u001b[0m: 'set' object has no attribute 'reverse'"
     ]
    }
   ],
   "source": [
    "sample_set.reverse()"
   ]
  },
  {
   "cell_type": "code",
   "execution_count": 59,
   "id": "c0a727db",
   "metadata": {},
   "outputs": [],
   "source": [
    "### Uniques! accepted only\n"
   ]
  },
  {
   "cell_type": "code",
   "execution_count": 60,
   "id": "5f7a96e5",
   "metadata": {},
   "outputs": [
    {
     "ename": "SyntaxError",
     "evalue": "invalid syntax (Temp/ipykernel_33060/1938258521.py, line 1)",
     "output_type": "error",
     "traceback": [
      "\u001b[1;36m  File \u001b[1;32m\"C:\\Users\\sasha\\AppData\\Local\\Temp/ipykernel_33060/1938258521.py\"\u001b[1;36m, line \u001b[1;32m1\u001b[0m\n\u001b[1;33m    append sample_set\u001b[0m\n\u001b[1;37m           ^\u001b[0m\n\u001b[1;31mSyntaxError\u001b[0m\u001b[1;31m:\u001b[0m invalid syntax\n"
     ]
    }
   ],
   "source": [
    "append sample_set"
   ]
  },
  {
   "cell_type": "code",
   "execution_count": 61,
   "id": "0f2be79e",
   "metadata": {},
   "outputs": [
    {
     "ename": "SyntaxError",
     "evalue": "invalid syntax (Temp/ipykernel_33060/1799735237.py, line 1)",
     "output_type": "error",
     "traceback": [
      "\u001b[1;36m  File \u001b[1;32m\"C:\\Users\\sasha\\AppData\\Local\\Temp/ipykernel_33060/1799735237.py\"\u001b[1;36m, line \u001b[1;32m1\u001b[0m\n\u001b[1;33m    modify sample_set\u001b[0m\n\u001b[1;37m           ^\u001b[0m\n\u001b[1;31mSyntaxError\u001b[0m\u001b[1;31m:\u001b[0m invalid syntax\n"
     ]
    }
   ],
   "source": [
    "modify sample_set\n"
   ]
  },
  {
   "cell_type": "code",
   "execution_count": 62,
   "id": "0f52197d",
   "metadata": {},
   "outputs": [
    {
     "ename": "NameError",
     "evalue": "name 'add' is not defined",
     "output_type": "error",
     "traceback": [
      "\u001b[1;31m---------------------------------------------------------------------------\u001b[0m",
      "\u001b[1;31mNameError\u001b[0m                                 Traceback (most recent call last)",
      "\u001b[1;32m~\\AppData\\Local\\Temp/ipykernel_33060/717255056.py\u001b[0m in \u001b[0;36m<module>\u001b[1;34m\u001b[0m\n\u001b[1;32m----> 1\u001b[1;33m \u001b[0msample_set\u001b[0m\u001b[1;33m(\u001b[0m\u001b[0madd\u001b[0m\u001b[1;33m)\u001b[0m\u001b[1;33m\u001b[0m\u001b[1;33m\u001b[0m\u001b[0m\n\u001b[0m",
      "\u001b[1;31mNameError\u001b[0m: name 'add' is not defined"
     ]
    }
   ],
   "source": [
    "sample_set(add)"
   ]
  },
  {
   "cell_type": "code",
   "execution_count": 63,
   "id": "4c54208f",
   "metadata": {},
   "outputs": [
    {
     "data": {
      "text/plain": [
       "{0,\n",
       " 1,\n",
       " 100,\n",
       " 123,\n",
       " 13.5,\n",
       " 21,\n",
       " 22,\n",
       " 23,\n",
       " 252,\n",
       " 3,\n",
       " 43,\n",
       " 45,\n",
       " 66,\n",
       " 67,\n",
       " 'a',\n",
       " 'abc',\n",
       " 'fox',\n",
       " 'hi'}"
      ]
     },
     "execution_count": 63,
     "metadata": {},
     "output_type": "execute_result"
    }
   ],
   "source": [
    "sample_set.add(100) ## set is mutable but not using index\n",
    "sample_set"
   ]
  },
  {
   "cell_type": "code",
   "execution_count": 64,
   "id": "c4e5a125",
   "metadata": {},
   "outputs": [
    {
     "data": {
      "text/plain": [
       "{0, 1, 100, 13.5, 21, 22, 23, 252, 3, 43, 45, 66, 67, 'a', 'abc', 'fox', 'hi'}"
      ]
     },
     "execution_count": 64,
     "metadata": {},
     "output_type": "execute_result"
    }
   ],
   "source": [
    "sample_set.remove(123)\n",
    "sample_set"
   ]
  },
  {
   "cell_type": "markdown",
   "id": "7026ad78",
   "metadata": {},
   "source": [
    "# Dict\n",
    "### dictionary has key value pair data structure\n",
    "### key isunique and values can be duplicated\n",
    "### Can retrieve the value using key\n",
    "### can change the value using key\n",
    "### key is immutable\n"
   ]
  },
  {
   "cell_type": "code",
   "execution_count": 91,
   "id": "f52407d7",
   "metadata": {},
   "outputs": [
    {
     "data": {
      "text/plain": [
       "{'a': 'alpha', 1: 'fourt', 2: 'second', 3: 'third', 6: 'sixth'}"
      ]
     },
     "execution_count": 91,
     "metadata": {},
     "output_type": "execute_result"
    }
   ],
   "source": [
    "sample_dict = {\"a\":\"alpha\",1:\"first\",2:\"second\",3:\"third\", 1:\"fourt\",6:\"sixth\"}\n",
    "type(sample_dict)\n",
    "sample_dict"
   ]
  },
  {
   "cell_type": "code",
   "execution_count": 70,
   "id": "f1a13d12",
   "metadata": {},
   "outputs": [
    {
     "ename": "AttributeError",
     "evalue": "'dict' object has no attribute 'reverse'",
     "output_type": "error",
     "traceback": [
      "\u001b[1;31m---------------------------------------------------------------------------\u001b[0m",
      "\u001b[1;31mAttributeError\u001b[0m                            Traceback (most recent call last)",
      "\u001b[1;32m~\\AppData\\Local\\Temp/ipykernel_33060/2748422659.py\u001b[0m in \u001b[0;36m<module>\u001b[1;34m\u001b[0m\n\u001b[1;32m----> 1\u001b[1;33m \u001b[0msample_dict\u001b[0m\u001b[1;33m.\u001b[0m\u001b[0mreverse\u001b[0m\u001b[1;33m(\u001b[0m\u001b[1;33m)\u001b[0m\u001b[1;33m\u001b[0m\u001b[1;33m\u001b[0m\u001b[0m\n\u001b[0m\u001b[0;32m      2\u001b[0m \u001b[0msample_dict\u001b[0m\u001b[1;33m\u001b[0m\u001b[1;33m\u001b[0m\u001b[0m\n",
      "\u001b[1;31mAttributeError\u001b[0m: 'dict' object has no attribute 'reverse'"
     ]
    }
   ],
   "source": [
    "sample_dict.reverse()\n",
    "sample_dict"
   ]
  },
  {
   "cell_type": "code",
   "execution_count": 71,
   "id": "3468ee9e",
   "metadata": {},
   "outputs": [
    {
     "ename": "AttributeError",
     "evalue": "'dict' object has no attribute 'sort'",
     "output_type": "error",
     "traceback": [
      "\u001b[1;31m---------------------------------------------------------------------------\u001b[0m",
      "\u001b[1;31mAttributeError\u001b[0m                            Traceback (most recent call last)",
      "\u001b[1;32m~\\AppData\\Local\\Temp/ipykernel_33060/965585487.py\u001b[0m in \u001b[0;36m<module>\u001b[1;34m\u001b[0m\n\u001b[1;32m----> 1\u001b[1;33m \u001b[0msample_dict\u001b[0m\u001b[1;33m.\u001b[0m\u001b[0msort\u001b[0m\u001b[1;33m(\u001b[0m\u001b[1;33m)\u001b[0m\u001b[1;33m\u001b[0m\u001b[1;33m\u001b[0m\u001b[0m\n\u001b[0m",
      "\u001b[1;31mAttributeError\u001b[0m: 'dict' object has no attribute 'sort'"
     ]
    }
   ],
   "source": [
    "sample_dict.sort()"
   ]
  },
  {
   "cell_type": "code",
   "execution_count": 72,
   "id": "b28796b2",
   "metadata": {},
   "outputs": [
    {
     "data": {
      "text/plain": [
       "'fourt'"
      ]
     },
     "execution_count": 72,
     "metadata": {},
     "output_type": "execute_result"
    }
   ],
   "source": [
    "sample_dict[1]"
   ]
  },
  {
   "cell_type": "code",
   "execution_count": 75,
   "id": "1817bf29",
   "metadata": {
    "scrolled": true
   },
   "outputs": [
    {
     "data": {
      "text/plain": [
       "{'a': 'alpha', 1: 'fourt', 2: 'second', 3: 'third', 6: 'fourth'}"
      ]
     },
     "execution_count": 75,
     "metadata": {},
     "output_type": "execute_result"
    }
   ],
   "source": [
    "sample_dict = {\"a\":\"alpha\",1:\"first\",2:\"second\",3:\"third\", 1:\"fourt\",6:\"fourth\"}\n",
    "type(sample_dict)\n",
    "sample_dict"
   ]
  },
  {
   "cell_type": "code",
   "execution_count": 86,
   "id": "02c2323f",
   "metadata": {},
   "outputs": [],
   "source": [
    "# a,1,2,3,6 are keys Whereas alpha, first, second, third is values\n",
    "# Key values should be unique. so it considers the last one "
   ]
  },
  {
   "cell_type": "code",
   "execution_count": 76,
   "id": "74b02b52",
   "metadata": {},
   "outputs": [],
   "source": [
    "# key is unique, Values can be duplicated\n"
   ]
  },
  {
   "cell_type": "code",
   "execution_count": 78,
   "id": "1b06c8e2",
   "metadata": {},
   "outputs": [
    {
     "ename": "KeyError",
     "evalue": "'fourth'",
     "output_type": "error",
     "traceback": [
      "\u001b[1;31m---------------------------------------------------------------------------\u001b[0m",
      "\u001b[1;31mKeyError\u001b[0m                                  Traceback (most recent call last)",
      "\u001b[1;32m~\\AppData\\Local\\Temp/ipykernel_33060/3268098473.py\u001b[0m in \u001b[0;36m<module>\u001b[1;34m\u001b[0m\n\u001b[1;32m----> 1\u001b[1;33m \u001b[0msample_dict\u001b[0m\u001b[1;33m[\u001b[0m\u001b[1;34m\"fourth\"\u001b[0m\u001b[1;33m]\u001b[0m\u001b[1;33m\u001b[0m\u001b[1;33m\u001b[0m\u001b[0m\n\u001b[0m",
      "\u001b[1;31mKeyError\u001b[0m: 'fourth'"
     ]
    }
   ],
   "source": [
    "sample_dict[\"fourth\"] #key cannot be retrieved from values"
   ]
  },
  {
   "cell_type": "code",
   "execution_count": 81,
   "id": "ecf59052",
   "metadata": {},
   "outputs": [
    {
     "data": {
      "text/plain": [
       "'alpha'"
      ]
     },
     "execution_count": 81,
     "metadata": {},
     "output_type": "execute_result"
    }
   ],
   "source": [
    "sample_dict['a'] #values can be retrieved using key"
   ]
  },
  {
   "cell_type": "code",
   "execution_count": 85,
   "id": "c7b1d9d5",
   "metadata": {},
   "outputs": [
    {
     "ename": "SyntaxError",
     "evalue": "invalid syntax (Temp/ipykernel_33060/2383861105.py, line 1)",
     "output_type": "error",
     "traceback": [
      "\u001b[1;36m  File \u001b[1;32m\"C:\\Users\\sasha\\AppData\\Local\\Temp/ipykernel_33060/2383861105.py\"\u001b[1;36m, line \u001b[1;32m1\u001b[0m\n\u001b[1;33m    sample_dict.append(7:'seventh')\u001b[0m\n\u001b[1;37m                        ^\u001b[0m\n\u001b[1;31mSyntaxError\u001b[0m\u001b[1;31m:\u001b[0m invalid syntax\n"
     ]
    }
   ],
   "source": [
    "sample_dict.append(7:'seventh')\n",
    "sample_dict"
   ]
  },
  {
   "cell_type": "markdown",
   "id": "da78346d",
   "metadata": {},
   "source": [
    "sample_dict[5]=\"fifth\"\n",
    "sample_dict"
   ]
  },
  {
   "cell_type": "code",
   "execution_count": 87,
   "id": "8cf4430e",
   "metadata": {},
   "outputs": [],
   "source": [
    "sample_dict[5]= \"fifth\""
   ]
  },
  {
   "cell_type": "code",
   "execution_count": 88,
   "id": "e90976bb",
   "metadata": {},
   "outputs": [
    {
     "data": {
      "text/plain": [
       "{'a': 'alpha', 1: 'fourt', 2: 'second', 3: 'third', 6: 'fourth', 5: 'fifth'}"
      ]
     },
     "execution_count": 88,
     "metadata": {},
     "output_type": "execute_result"
    }
   ],
   "source": [
    "sample_dict"
   ]
  },
  {
   "cell_type": "code",
   "execution_count": null,
   "id": "0717b41d",
   "metadata": {},
   "outputs": [],
   "source": []
  }
 ],
 "metadata": {
  "kernelspec": {
   "display_name": "Python 3 (ipykernel)",
   "language": "python",
   "name": "python3"
  },
  "language_info": {
   "codemirror_mode": {
    "name": "ipython",
    "version": 3
   },
   "file_extension": ".py",
   "mimetype": "text/x-python",
   "name": "python",
   "nbconvert_exporter": "python",
   "pygments_lexer": "ipython3",
   "version": "3.9.7"
  }
 },
 "nbformat": 4,
 "nbformat_minor": 5
}
